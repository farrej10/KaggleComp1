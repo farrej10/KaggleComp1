{
 "cells": [
  {
   "cell_type": "code",
   "execution_count": 621,
   "metadata": {},
   "outputs": [],
   "source": [
    "import sklearn as sk\n",
    "import math\n",
    "import pandas as pd\n",
    "import numpy as np\n",
    "import matplotlib.pyplot as plt\n",
    "import seaborn as sns\n",
    "from sklearn.model_selection import train_test_split \n",
    "from sklearn.linear_model import LinearRegression\n",
    "from sklearn import metrics\n",
    "from sklearn.ensemble import RandomForestRegressor\n",
    "from sklearn.feature_selection import chi2\n",
    "\n",
    "%matplotlib inline\n",
    "plt.rcParams['figure.figsize'] = (12,12)"
   ]
  },
  {
   "cell_type": "code",
   "execution_count": 622,
   "metadata": {},
   "outputs": [],
   "source": [
    "def columnDrop(dataset,category):\n",
    "    dataset = dataset.drop(columns = category, axis = 1)\n",
    "    return dataset"
   ]
  },
  {
   "cell_type": "code",
   "execution_count": 623,
   "metadata": {},
   "outputs": [],
   "source": [
    "def oneHotEncode(dataset,category):\n",
    "    categoryDataset = pd.get_dummies(dataset[category],prefix = category)\n",
    "    dataset = pd.concat([dataset,categoryDataset], axis=1)\n",
    "    dataset = columnDrop(dataset,category)\n",
    "    #dataset = dataset.drop(columns = [category],axis = 1)\n",
    "    return dataset"
   ]
  },
  {
   "cell_type": "code",
   "execution_count": 624,
   "metadata": {},
   "outputs": [],
   "source": [
    "def normalizeCat(dataset,category):\n",
    "    dataset[category]=((dataset[category]-dataset[category].min())/(dataset[category].max()-dataset[category].min()))*1.0\n",
    "    return dataset[category]"
   ]
  },
  {
   "cell_type": "code",
   "execution_count": 625,
   "metadata": {},
   "outputs": [],
   "source": [
    "def columnlist(dataset):\n",
    "    mylist = list()\n",
    "    for col in dataset.columns:  \n",
    "        mylist.append(col)\n",
    "        \n",
    "    return mylist"
   ]
  },
  {
   "cell_type": "code",
   "execution_count": 626,
   "metadata": {},
   "outputs": [],
   "source": [
    "#encoding all strings\n",
    "def HotEncode(dataset):\n",
    "    newdataset = oneHotEncode(dataset,'Gender')\n",
    "    newdataset = oneHotEncode(newdataset,'Country')\n",
    "    newdataset = oneHotEncode(newdataset,'Profession')\n",
    "    #newdataset = oneHotEncode(newdataset,'Hair Color')\n",
    "    newdataset = oneHotEncode(newdataset,'University Degree')\n",
    "    return newdataset"
   ]
  },
  {
   "cell_type": "code",
   "execution_count": 627,
   "metadata": {},
   "outputs": [],
   "source": [
    "def normalise(dataset):\n",
    "    #normalize some columns\n",
    "    dataset['Year of Record'] = normalizeCat(dataset,'Year of Record')\n",
    "    dataset['Age'] = normalizeCat(dataset,'Age')\n",
    "    dataset['Size of City'] = normalizeCat(dataset,'Size of City')\n",
    "    dataset['Body Height [cm]'] = normalizeCat(dataset,'Body Height [cm]')\n",
    "    return dataset"
   ]
  },
  {
   "cell_type": "code",
   "execution_count": 628,
   "metadata": {},
   "outputs": [],
   "source": [
    "dataset = pd.read_csv('./Kaggle1/Data/tcd ml 2019-20 income prediction training (with labels).csv')\n",
    "NoLabel = pd.read_csv('./Kaggle1/Data/tcd ml 2019-20 income prediction test (without labels).csv')"
   ]
  },
  {
   "cell_type": "code",
   "execution_count": 629,
   "metadata": {},
   "outputs": [],
   "source": [
    "#dataset[dataset.columns] = dataset[dataset.columns].fillna(dataset.mode().iloc[0])\n",
    "#NoLabel[NoLabel.columns] = NoLabel[NoLabel.columns].fillna(NoLabel.mode().iloc[0])"
   ]
  },
  {
   "cell_type": "code",
   "execution_count": 630,
   "metadata": {},
   "outputs": [],
   "source": [
    "dataset= dataset.ffill()\n",
    "NoLabel= NoLabel.ffill()"
   ]
  },
  {
   "cell_type": "code",
   "execution_count": 631,
   "metadata": {},
   "outputs": [],
   "source": [
    "Bothsets = pd.concat([dataset, NoLabel], sort=False)\n",
    "Bothsets = columnDrop(Bothsets,'Hair Color')\n",
    "Bothsets = columnDrop(Bothsets,'Wears Glasses')\n",
    "\n",
    "\n",
    "Bothsets = HotEncode(Bothsets)\n",
    "Bothsets = normalise(Bothsets)\n",
    "\n",
    "trainset_i = Bothsets['Instance'] < 111994\n",
    "trainset = Bothsets[trainset_i]"
   ]
  },
  {
   "cell_type": "code",
   "execution_count": 632,
   "metadata": {},
   "outputs": [],
   "source": [
    "#quantile1 = trainset['Size of City'].quantile(0.99)\n",
    "#quantile2 = trainset['Size of City'].quantile(0.01)\n",
    "#trainset = trainset[(trainset['Size of City'] <= quantile1) & (trainset['Size of City'] >= quantile2)]\n",
    "\n",
    "quantile1 = trainset['Body Height [cm]'].quantile(0.99)\n",
    "quantile2 = trainset['Body Height [cm]'].quantile(0.01)\n",
    "trainset = trainset[(trainset['Body Height [cm]'] <= quantile1) & (trainset['Body Height [cm]'] >= quantile2)]\n",
    "\n",
    "#trainset = trainset[trainset.columns[trainset.sum()>10]]\n",
    "\n",
    "submissionset_i = Bothsets['Instance'] >= 111994\n",
    "submissionset = Bothsets[submissionset_i]"
   ]
  },
  {
   "cell_type": "code",
   "execution_count": 633,
   "metadata": {},
   "outputs": [],
   "source": [
    "#age = trainset.groupby('Age')\n",
    "#trainset = age.filter(lambda x: len(x) > 50)\n",
    "#trainset.plot(kind = 'scatter',x='Body Height [cm]',y='Income in EU R')"
   ]
  },
  {
   "cell_type": "code",
   "execution_count": 634,
   "metadata": {},
   "outputs": [],
   "source": [
    "features = trainset.drop(['Income in EUR','Income','Instance'], axis = 1)\n",
    "submissionfeatures = submissionset.drop(['Income in EUR','Income','Instance'], axis = 1)"
   ]
  },
  {
   "cell_type": "code",
   "execution_count": 635,
   "metadata": {},
   "outputs": [
    {
     "name": "stdout",
     "output_type": "stream",
     "text": [
      "(109848, 1531)\n",
      "(73230, 1531)\n"
     ]
    }
   ],
   "source": [
    "print(features.shape)\n",
    "print(submissionfeatures.shape)"
   ]
  },
  {
   "cell_type": "code",
   "execution_count": 636,
   "metadata": {},
   "outputs": [
    {
     "data": {
      "text/plain": [
       "0     61031.94416\n",
       "1     91001.32764\n",
       "2    157982.17670\n",
       "3     45993.75793\n",
       "4     38022.16217\n",
       "Name: Income in EUR, dtype: float64"
      ]
     },
     "execution_count": 636,
     "metadata": {},
     "output_type": "execute_result"
    }
   ],
   "source": [
    "#labels1 = trainset.drop('Income', axis = 1)\n",
    "labels = trainset['Income in EUR']\n",
    "train_labels = np.array(labels)\n",
    "labels.head()"
   ]
  },
  {
   "cell_type": "code",
   "execution_count": 637,
   "metadata": {},
   "outputs": [],
   "source": [
    "#bestfeatures = sk.feature_selection.SelectKBest(score_func=chi2,k=10).fit_transform(features,labels)"
   ]
  },
  {
   "cell_type": "code",
   "execution_count": 638,
   "metadata": {},
   "outputs": [],
   "source": [
    "#Split the data\n",
    "X_train, X_test, y_train, y_test = train_test_split(features, labels, test_size=0.2, random_state=0)"
   ]
  },
  {
   "cell_type": "code",
   "execution_count": 639,
   "metadata": {},
   "outputs": [
    {
     "data": {
      "text/plain": [
       "(87878, 1531)"
      ]
     },
     "execution_count": 639,
     "metadata": {},
     "output_type": "execute_result"
    }
   ],
   "source": [
    "X_train.shape"
   ]
  },
  {
   "cell_type": "code",
   "execution_count": 640,
   "metadata": {},
   "outputs": [],
   "source": [
    "#regressor = LinearRegression()\n",
    "#model = regressor.fit(X_train,y_train)"
   ]
  },
  {
   "cell_type": "code",
   "execution_count": 641,
   "metadata": {},
   "outputs": [],
   "source": [
    "#regressor = sk.linear_model.Ridge(alpha = 0.1,)\n",
    "#model = regressor.fit(X_train,y_train)"
   ]
  },
  {
   "cell_type": "code",
   "execution_count": 642,
   "metadata": {},
   "outputs": [],
   "source": [
    "#regressor = sk.linear_model.LogisticRegression(verbose = 2)\n",
    "#model = regressor.fit(X_train,y_train)"
   ]
  },
  {
   "cell_type": "code",
   "execution_count": 643,
   "metadata": {},
   "outputs": [],
   "source": [
    "#regressor = sk.linear_model.Lasso(alpha = 0.1,max_iter = 500,tol = 0.1)\n",
    "#model = regressor.fit(X_train,y_train)"
   ]
  },
  {
   "cell_type": "code",
   "execution_count": 644,
   "metadata": {},
   "outputs": [],
   "source": [
    "#regressor = sk.linear_model.OrthoganalMatchingPursuitCV(cv=5)\n",
    "#model = regressor.fit(X_train,y_train)"
   ]
  },
  {
   "cell_type": "code",
   "execution_count": 645,
   "metadata": {},
   "outputs": [],
   "source": [
    "#regressor = sk.linear_model.BayesianRidge()\n",
    "#model = regressor.fit(X_train,y_train)"
   ]
  },
  {
   "cell_type": "code",
   "execution_count": 646,
   "metadata": {},
   "outputs": [],
   "source": [
    "#regressor = sk.linear_model.ElasticNet(alpha = 0.1,max_iter = 1000,tol = 0.0001)\n",
    "#model = regressor.fit(X_train,y_train)"
   ]
  },
  {
   "cell_type": "code",
   "execution_count": 659,
   "metadata": {},
   "outputs": [
    {
     "name": "stderr",
     "output_type": "stream",
     "text": [
      "[Parallel(n_jobs=-1)]: Using backend ThreadingBackend with 8 concurrent workers.\n"
     ]
    },
    {
     "name": "stdout",
     "output_type": "stream",
     "text": [
      "building tree 1 of 20building tree 2 of 20\n",
      "building tree 3 of 20\n",
      "\n",
      "building tree 4 of 20\n",
      "building tree 5 of 20\n",
      "building tree 6 of 20\n",
      "building tree 7 of 20\n",
      "building tree 8 of 20\n",
      "building tree 9 of 20\n",
      "building tree 10 of 20\n",
      "building tree 11 of 20\n",
      "building tree 12 of 20\n",
      "building tree 13 of 20\n",
      "building tree 14 of 20\n",
      "building tree 15 of 20\n",
      "building tree 16 of 20\n",
      "building tree 17 of 20\n",
      "building tree 18 of 20\n",
      "building tree 19 of 20\n",
      "building tree 20 of 20\n"
     ]
    },
    {
     "name": "stderr",
     "output_type": "stream",
     "text": [
      "[Parallel(n_jobs=-1)]: Done  16 out of  20 | elapsed:  5.8min remaining:  1.4min\n",
      "[Parallel(n_jobs=-1)]: Done  20 out of  20 | elapsed:  7.2min finished\n"
     ]
    }
   ],
   "source": [
    "regressor = RandomForestRegressor(n_estimators = 20,verbose = 2, n_jobs = -1)\n",
    "model = regressor.fit(X_train,y_train)"
   ]
  },
  {
   "cell_type": "code",
   "execution_count": 682,
   "metadata": {},
   "outputs": [
    {
     "name": "stderr",
     "output_type": "stream",
     "text": [
      "[Parallel(n_jobs=-1)]: Using backend ThreadingBackend with 8 concurrent workers.\n"
     ]
    },
    {
     "name": "stdout",
     "output_type": "stream",
     "text": [
      "building tree 1 of 50\n",
      "building tree 2 of 50\n",
      "building tree 3 of 50\n",
      "building tree 4 of 50\n",
      "building tree 5 of 50\n",
      "building tree 6 of 50\n",
      "building tree 7 of 50\n",
      "building tree 8 of 50\n",
      "building tree 9 of 50\n",
      "building tree 10 of 50\n",
      "building tree 11 of 50\n",
      "building tree 12 of 50\n",
      "building tree 13 of 50\n",
      "building tree 14 of 50\n",
      "building tree 15 of 50\n",
      "building tree 16 of 50\n",
      "building tree 17 of 50\n",
      "building tree 18 of 50\n",
      "building tree 19 of 50\n",
      "building tree 20 of 50\n",
      "building tree 21 of 50\n",
      "building tree 22 of 50\n",
      "building tree 23 of 50\n",
      "building tree 24 of 50\n",
      "building tree 25 of 50\n",
      "building tree 26 of 50\n",
      "building tree 27 of 50\n",
      "building tree 28 of 50\n",
      "building tree 29 of 50\n",
      "building tree 30 of 50\n",
      "building tree 31 of 50\n",
      "building tree 32 of 50\n",
      "building tree 33 of 50\n"
     ]
    },
    {
     "name": "stderr",
     "output_type": "stream",
     "text": [
      "[Parallel(n_jobs=-1)]: Done  25 tasks      | elapsed: 15.0min\n"
     ]
    },
    {
     "name": "stdout",
     "output_type": "stream",
     "text": [
      "building tree 34 of 50\n",
      "building tree 35 of 50\n",
      "building tree 36 of 50\n",
      "building tree 37 of 50\n",
      "building tree 38 of 50\n",
      "building tree 39 of 50\n",
      "building tree 40 of 50\n",
      "building tree 41 of 50\n",
      "building tree 42 of 50\n",
      "building tree 43 of 50\n",
      "building tree 44 of 50\n",
      "building tree 45 of 50\n",
      "building tree 46 of 50\n",
      "building tree 47 of 50\n",
      "building tree 48 of 50\n",
      "building tree 49 of 50\n",
      "building tree 50 of 50\n"
     ]
    },
    {
     "name": "stderr",
     "output_type": "stream",
     "text": [
      "[Parallel(n_jobs=-1)]: Done  50 out of  50 | elapsed: 24.0min finished\n"
     ]
    }
   ],
   "source": [
    "regressor = RandomForestRegressor(n_estimators = 50,verbose = 2, n_jobs = -1)\n",
    "model = regressor.fit(features,labels)"
   ]
  },
  {
   "cell_type": "code",
   "execution_count": 683,
   "metadata": {},
   "outputs": [],
   "source": [
    "#regressor = sk.ensemble.GradientBoostingRegressor(random_state=0,n_estimators = 200,learning_rate = 0.5,loss = 'ls')\n",
    "#model = regressor.fit(X_train,y_train)"
   ]
  },
  {
   "cell_type": "code",
   "execution_count": 684,
   "metadata": {},
   "outputs": [],
   "source": [
    "#regressor = sk.ensemble.GradientBoostingRegressor(n_estimators = 100, learning_rate = 0.3, max_depth = 3, random_state = 0, loss = 'ls')\n",
    "#model = regressor.fit(features,labels)"
   ]
  },
  {
   "cell_type": "code",
   "execution_count": 685,
   "metadata": {},
   "outputs": [],
   "source": [
    "#regressor = sk.linear_model.Lars()\n",
    "#model = regressor.fit(X_train,y_train)"
   ]
  },
  {
   "cell_type": "code",
   "execution_count": 686,
   "metadata": {},
   "outputs": [],
   "source": [
    "#coeff = pd.DataFrame(regressor.coef_, temp.columns,columns = ['Coefficient'])\n",
    "#coeff\n",
    "model2=model"
   ]
  },
  {
   "cell_type": "code",
   "execution_count": 693,
   "metadata": {},
   "outputs": [
    {
     "name": "stderr",
     "output_type": "stream",
     "text": [
      "[Parallel(n_jobs=8)]: Using backend ThreadingBackend with 8 concurrent workers.\n",
      "[Parallel(n_jobs=8)]: Done  25 tasks      | elapsed:    0.1s\n",
      "[Parallel(n_jobs=8)]: Done  50 out of  50 | elapsed:    0.3s finished\n"
     ]
    }
   ],
   "source": [
    "y_pred = model2.predict(X_test)"
   ]
  },
  {
   "cell_type": "code",
   "execution_count": 694,
   "metadata": {},
   "outputs": [
    {
     "data": {
      "text/plain": [
       "(0, 1000000)"
      ]
     },
     "execution_count": 694,
     "metadata": {},
     "output_type": "execute_result"
    },
    {
     "data": {
      "image/png": "[encoded data removed]",
      "text/plain": [
       "<Figure size 864x864 with 1 Axes>"
      ]
     },
     "metadata": {
      "needs_background": "light"
     },
     "output_type": "display_data"
    }
   ],
   "source": [
    "diff = pd.DataFrame({'Actual': y_test,'Predicted': y_pred})\n",
    "plot1 = diff.plot(kind='scatter',x='Predicted',y='Actual',color='red')\n",
    "plot1.set_ylim(0,1000000)\n",
    "plot1.set_xlim(0,1000000)"
   ]
  },
  {
   "cell_type": "code",
   "execution_count": 689,
   "metadata": {},
   "outputs": [
    {
     "name": "stdout",
     "output_type": "stream",
     "text": [
      "Root Mean Squared Error: 31535.75481773434\n"
     ]
    }
   ],
   "source": [
    "#print('Mean Absolute Error:', metrics.mean_absolute_error(y_test, y_pred))  \n",
    "#print('Mean Squared Error:', metrics.mean_squared_error(y_test, y_pred))  \n",
    "print('Root Mean Squared Error:', math.sqrt(metrics.mean_squared_error(y_test, y_pred)))"
   ]
  },
  {
   "cell_type": "code",
   "execution_count": 690,
   "metadata": {},
   "outputs": [
    {
     "name": "stderr",
     "output_type": "stream",
     "text": [
      "[Parallel(n_jobs=8)]: Using backend ThreadingBackend with 8 concurrent workers.\n",
      "[Parallel(n_jobs=8)]: Done  25 tasks      | elapsed:    0.5s\n"
     ]
    },
    {
     "name": "stdout",
     "output_type": "stream",
     "text": [
      "[ 69364.7925422  18022.3279912  37752.0080156 ...  60312.1018952\n",
      " 197861.1614856 201759.334008 ]\n"
     ]
    },
    {
     "name": "stderr",
     "output_type": "stream",
     "text": [
      "[Parallel(n_jobs=8)]: Done  50 out of  50 | elapsed:    0.9s finished\n"
     ]
    }
   ],
   "source": [
    "test_labels = model.predict(submissionfeatures)\n",
    "print(test_labels)"
   ]
  },
  {
   "cell_type": "code",
   "execution_count": 691,
   "metadata": {},
   "outputs": [
    {
     "data": {
      "text/plain": [
       "(73230,)"
      ]
     },
     "execution_count": 691,
     "metadata": {},
     "output_type": "execute_result"
    }
   ],
   "source": [
    "test_labels.shape"
   ]
  },
  {
   "cell_type": "code",
   "execution_count": 692,
   "metadata": {},
   "outputs": [
    {
     "name": "stdout",
     "output_type": "stream",
     "text": [
      "(73230, 2)\n"
     ]
    }
   ],
   "source": [
    "submission_data = pd.read_csv('./Kaggle1/Data/tcd ml 2019-20 income prediction submission file.csv')\n",
    "print(submission_data.shape)\n",
    "submission_data['Income'] = test_labels\n",
    "submission_data.to_csv('./Kaggle1/Data/tcd ml 2019-20 income prediction submission file.csv', encoding='utf-8', index = False)"
   ]
  },
  {
   "cell_type": "code",
   "execution_count": null,
   "metadata": {},
   "outputs": [],
   "source": []
  },
  {
   "cell_type": "code",
   "execution_count": null,
   "metadata": {},
   "outputs": [],
   "source": []
  }
 ],
 "metadata": {
  "kernelspec": {
   "display_name": "Python 3",
   "language": "python",
   "name": "python3"
  },
  "language_info": {
   "codemirror_mode": {
    "name": "ipython",
    "version": 3
   },
   "file_extension": ".py",
   "mimetype": "text/x-python",
   "name": "python",
   "nbconvert_exporter": "python",
   "pygments_lexer": "ipython3",
   "version": "3.7.3"
  }
 },
 "nbformat": 4,
 "nbformat_minor": 2
}
